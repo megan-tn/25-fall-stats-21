



































# basic operations
2 + 3


# if you have multiple operations in a cell, only the last expression will be printed
4 + 5
5 * 5


# if you want to the other stuff to appear, you need to use print() commands
print(4 + 5)
print(5 * 5)

# note that when you do this, there is no Out[ ] for the cell.





In[1]


Out[2]


# Out is a dictionary
Out


# In is a list
In





# multiplication repeats the string
3 * 'hello!'


# addition concatenates strings
"hi" + "goodbye"





%run script01.py





name = 'Miles'


%run script02.py


%run -i script02.py





!cat script02.py


!type script02.py





help(print)





# this is a comment and is not run





# examples
x = 5
print(x)


# semicolon to include multiple statements in one line
y = 6; z = 7
print(y + z)





# backslash to continue a statement over multiple lines
a = 1 + 2 + 3 \
    + 4 + 5
print(a)


# or use parenthesis
b = (1 + 2 + 3
    + 4 + 5)
print(b)


l = ['a', 2, 3, 'd',
    'e', 6]
print(l)





# we will learn if statements later, but here's an example
x = 8
if(x > 5):
    print('x is greater than 5')   # the two indented lines only run 
    print(x)                       # when the if statement is true
print('hello')    # this line is not indented and will run regardless of if statement


x = 4
if(x > 5):
    print('x is greater than 5')   # the two indented lines only run 
    print(x)                       # when the if statement is true
print('hello')    # this line is not indented and will run regardless of if statement


x = 4
if(x > 5):
    print('x is greater than 5')
print(x)
print('hello')
