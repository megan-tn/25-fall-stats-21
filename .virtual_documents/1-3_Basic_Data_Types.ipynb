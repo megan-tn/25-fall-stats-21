





type("2")


type(2)


type(2.0)


type(True)


type(None)








x = 10
y = 5
print(type(x))
print(type(y))


z = x + y
type(z)


z





x = 10
y = 5


z = x * y
type(z)


z





x = 10
y = 5


z = x / y
type(z)





z





x = 10.0
y = 5
print(type(x))
print(type(y))


x + y


x * y





2.0 ** 1023


2.0 ** 1023 + 2.0 ** 1022 + 2.0 ** 1021


2.0 ** 1024 # this is too big to be represented with 64 bits in double floating point





a = (1 + 2) / 10


b = (1/10 + 2/10)


a == b # with real numbers, we expect these to be equal


'{:.20f}'.format(a) # format to print 20 places after decimal


'{:.20f}'.format(b)








import math
math.isclose(a, b)





2 ** 1023


2 ** 1024


2 ** 1025





9 ** 2 # power operator. Can result in float or int depending on input.





sqrt(9)


9 ** 0.5 # could work as an alternative to sqrt function.





pi


exp(2)


sin(0)





import math


math.sqrt(9)


math.pi


math.exp(2)


math.sin(math.pi / 2) # the math.sin function uses radians





type(True)


type("True")





type(TRUE) # TRUE or T or t or true





message1 = "Hello! How are you?"
message2 = 'fine'





len(message1) # number of characters


4 * message2 # "multiplication" with strings





name = "Miles"


"My name is {name} and my school is {school}.".format(name = name, school = "UCLA")








n = 5


print(n)





x = 4





x = 1         # x points to an integer
x = "hello"   # x points to a string
x = [1, 2, 3] # x points to a list














s = "101533"


sid = "101533"





finnishmeteorologicalinstituteobservationstationidentificationnumber = "101533"








fmi_station_id = "101533"


fmiStationID = "101533"





# not great
fruit = ['apple', 'banana', 'orange']


# good
fruits = ['apple', 'banana', 'orange']


# even better as Names implies the usage of strings
fruitNames = ['apple', 'banana', 'orange']





# not great
selected = True
write = True
fruit = True


# good
isSelected = True
canWrite = True
hasFruit = True





# not great
rows = 3


# better
minRows = 1
maxRows = 50
totalRows = 3
currentRow = 7








carBrandNames = ['Ford', 'BMW', 'Volvo', 'Toyota']
carBrandNames.sort() # sorts and modifies the list itself
carBrandNames


carBrandNames = ['Chevrolet', 'Audi', 'Honda']
sorted(carBrandNames) # returns the sorted list, but does not modify the list


carBrandNames # we see the list is unmodified


carBrandNames


carBrandNames.sorted() # this attribute does not exist


sort(carBrandNames) # this function does not exist
